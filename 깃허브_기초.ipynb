{
  "nbformat": 4,
  "nbformat_minor": 0,
  "metadata": {
    "colab": {
      "name": "깃허브 기초.ipynb",
      "provenance": [],
      "authorship_tag": "ABX9TyMjmvnaybG2TculzX+VX0p9",
      "include_colab_link": true
    },
    "kernelspec": {
      "name": "python3",
      "display_name": "Python 3"
    }
  },
  "cells": [
    {
      "cell_type": "markdown",
      "metadata": {
        "id": "view-in-github",
        "colab_type": "text"
      },
      "source": [
        "<a href=\"https://colab.research.google.com/github/Taeho-Kim-0322/Repository/blob/main/%EA%B9%83%ED%97%88%EB%B8%8C_%EA%B8%B0%EC%B4%88.ipynb\" target=\"_parent\"><img src=\"https://colab.research.google.com/assets/colab-badge.svg\" alt=\"Open In Colab\"/></a>"
      ]
    },
    {
      "cell_type": "markdown",
      "metadata": {
        "id": "5CokyDiLc4e5"
      },
      "source": [
        "## Git / Github\n",
        "\n",
        "1. Git 기초\n",
        "\n",
        "   1. Git 로컬 저장소\n",
        "\n",
        "      1. `git init` : 시작\n",
        "      2. `git status` : git의 상태 확인하기\n",
        "      3. `git add` : staging area에 담기\n",
        "         1. `git add .`\n",
        "         2. `git add '*.py'`\n",
        "         3. `git add 'test.py'`\n",
        "      4. `git reset` : commit한 것 되돌리기\n",
        "         1. `git reset --soft`: commit만 되돌리기\n",
        "         2. `git reset`: staging한 것 까지 되돌리기\n",
        "         3. `git reset --hard` : working dir 까지 다 날려버림\n",
        "         4. `git reset HEAD xxx.txt` : 해당 파일 add한 것을 취소하겠음.\n",
        "            1. `git checkout -- xxx.txt` : 해당 파일 수정 add한것을 취소하겠음.\n",
        "      5. `git commit ` : 버전 업데이트 하기\n",
        "         1. `git commit -m '커밋할 내용'`\n",
        "         2. `git commit --amend` : 방금 전 커밋한 것의 메세지를 바꿔 덮어 쓰겠다.\n",
        "            1. 아 맞다 이거도 커밋해야함. 이라는 메시지를 남기지 않기 위함\n",
        "      6. `.gitignore 파일` : 해당 파일에 git에 어떠한 영향을 받지 않는 파일 목록을 기록\n",
        "         1. 보통 Dataset이나 로컬 설정, 보안이 필요한 파일 등을 표시한다.\n",
        "\n",
        "   2. Git 원격 저장소\n",
        "\n",
        "      1. 일반적으로는 Github, Gitlab, Bitbucket\n",
        "      2. 로컬에 있어도 remote라고 한다.\n",
        "      3. 접속가능한 주소가 있고 해당 저장소를 remote로 등록한다면 pull push 할 수 있다.\n",
        "      4. `git remote add {리모트별명지정} {주소}` : 해당 원격 저장소를 내 로컬에 등록한다.\n",
        "\n",
        "   3. 브랜치\n",
        "\n",
        "      ![브랜치](https://git-scm.com/book/en/v2/images/advance-testing.png)\n",
        "\n",
        "      1. `git branch [이름] ` : 브랜치 생성\n",
        "         1. `git branch -d [이름]  `: 브랜치 삭제하기\n",
        "      2. `git checkout` : 브랜치로 이동하기 (HEAD를 바꾸기)\n",
        "         1. 브랜치를 이동하면 워킹 디렉토리가 변경됨.\n",
        "      3. `git merge [A커밋] ` : 현재위치의 브랜치에 A커밋을 merge 시킨다. \n",
        "         1. 충돌\n",
        "            1. 다른 커밋에서 같은 부분을 수정하면 conflict 발생.\n",
        "            2. 충돌이 난 부분이 `<<<<<<<`, `=======`, `>>>>>>>` 가 포함되어 수정을 요구함\n",
        "            3. 해당 부분을 수정하고 다시 add, commit하면 된다.\n",
        "            4. 충돌을 해결할 경우, commit 메세지에 어떤 부분을 수정했는지 적어주는 것이 좋다\n",
        "      4. `git rebase` : commit 한 가지를 가지치기하고 깔끔하게 하나의 줄기로 만든다. 커밋내용 자체는 살림\n",
        "         1. ![ㅁ](https://img1.daumcdn.net/thumb/R1280x0/?scode=mtistory2&fname=https%3A%2F%2Fblog.kakaocdn.net%2Fdn%2FmU5MO%2FbtqBjUYGtyc%2FfgYXMAb0Xwl2g3IvqA5c30%2Fimg.jpg)\n",
        "         2. 이미 공개된 브랜치에 대해서는 하지 말 것.\n",
        "      5. `git squash` : commit 한 가지를 가지치기하고 깔끔하게 하나의 줄기로 만든다. 커밋내용을 전부 합쳐버림\n",
        "         1. ![img](https://blog.kakaocdn.net/dn/bmjZJm/btqBlhZGBsX/PwIk1jRflsybvvDQQImqyk/img.jpg)\n",
        "         2. 이 것 또한 이미 공개된 브랜치에 대해서는 하지 말 것.\n",
        "      6. 개발 플젝에서의 효율적인 브랜치 관리\n",
        "         1. ![사진](https://git-scm.com/book/en/v2/images/lr-branches-2.png)\n",
        "      7. 분석 플젝에서의 효율적인 브랜치 관리\n",
        "         1. ![사진](https://git-scm.com/book/en/v2/images/topic-branches-1.png)\n",
        "\n",
        "   4. `git pull request`\n",
        "\n",
        "      1. 해당 브랜치(저장소)에 push나 merge 권한이 없을 때 언제든지 사용.\n",
        "      2. 상황별 설명\n",
        "         1. 타인의 리포짓토리나 오픈소스 프로젝트에 기여하고 싶다.\n",
        "            1. folk하여 내 것을 복사해오기\n",
        "            2. branch는 따도 되고 안따도 된다. 어떤 것을 바꾸고 싶은지를 설명하는 브랜치면 좋다.\n",
        "               1. hotfix, addfunc 등등 대표적인 단어로.\n",
        "            3. 수정 한 후 내 리포짓에 커밋\n",
        "            4. 타인 리포짓의 어느 브랜치든간에 pull request\n",
        "            5. 관리자가 해당 리퀘스트 확인 후 merge\n",
        "         2. 공용 리포짓토리인데 master에 합칠 권한은 없음\n",
        "            1. 내 branch나 권한이 있는 branch에서 작업\n",
        "            2. 커밋 한뒤, 메인 브랜치에 pull request\n",
        "            3. 브랜치 관리자가 해당 리퀘스트를 확인 후 merge\n",
        "      3. Collaborator에 등록되면, 공동 관리자로 인정되어 push가 가능해진다.\n",
        "      4. gitlab의 merge request와 동일작업\n",
        "         1. A가 B의 코드를 수정하여 request 했다면\n",
        "         2. A는 B에게 '내 코드를 merge 해달라' 라고 request 한 것.\n",
        "         3. B는 A에 의해 '내 코드를 너의 코드에 pull 해달라' 라고 request 받은 것.\n"
      ]
    },
    {
      "cell_type": "code",
      "metadata": {
        "id": "7xRZwQPwc69w"
      },
      "source": [
        ""
      ],
      "execution_count": null,
      "outputs": []
    }
  ]
}